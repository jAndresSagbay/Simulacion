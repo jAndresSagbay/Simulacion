{
 "cells": [
  {
   "cell_type": "code",
   "execution_count": 9,
   "metadata": {},
   "outputs": [],
   "source": [
    "from selenium import webdriver\n",
    "from selenium.webdriver.common.keys import Keys\n",
    "from selenium.common.exceptions import TimeoutException\n",
    "from time import sleep\n",
    "from selenium.webdriver.support.ui import WebDriverWait\n",
    "from selenium.webdriver.support.ui import Select\n",
    "from selenium.webdriver.common.by import By\n",
    "from selenium.webdriver.support import expected_conditions\n",
    "from selenium.common.exceptions import NoSuchElementException\n",
    "import time\n",
    "import os\n",
    "import pyautogui\n",
    "\n",
    "def main():\n",
    "\n",
    "    usr = \"xxxxxxx\"\n",
    "    pwd = \"xxxxx\"\n",
    "    \n",
    "\n",
    "    driver = webdriver.Firefox(executable_path=r'C:\\driverFirefox\\geckodriver.exe')\n",
    "\n",
    "    \n",
    "    driver.get(\"http://www.facebook.com\")\n",
    "    sleep(2)\n",
    "    \n",
    "    elem = driver.find_element_by_id(\"email\")\n",
    "    elem.send_keys(usr)\n",
    "   \n",
    "    elem = driver.find_element_by_id(\"pass\")\n",
    "    elem.send_keys(pwd)\n",
    "   \n",
    "    elem.send_keys(Keys.RETURN)\n",
    "    sleep(20)\n",
    "    \n",
    "    elem = driver.find_element_by_xpath(\"/html/body/div[1]/div/div[1]/div/div[3]/div/div/div[1]/div[1]/div/div[2]/div/div/div[3]/div/div[2]/div/div/div/div[2]/div[2]/div[1]/span[2]/span\").click()\n",
    "    sleep(8)\n",
    "    \n",
    "    pyautogui.write(\"andres\")\n",
    "    pyautogui.press(\"enter\")\n",
    "    \n",
    "    sleep(5)\n",
    "    elem = driver.find_element_by_xpath(\"/html/body/div[1]/div/div[1]/div/div[4]/div/div/div[1]/div/div[2]/div/div/div/form/div/div[1]/div/div/div[3]/div[2]/div\").click()\n",
    "\n",
    "\n",
    "\n",
    "if __name__ == '__main__':\n",
    "    main()"
   ]
  },
  {
   "cell_type": "code",
   "execution_count": null,
   "metadata": {},
   "outputs": [],
   "source": []
  }
 ],
 "metadata": {
  "kernelspec": {
   "display_name": "Python 3",
   "language": "python",
   "name": "python3"
  },
  "language_info": {
   "codemirror_mode": {
    "name": "ipython",
    "version": 3
   },
   "file_extension": ".py",
   "mimetype": "text/x-python",
   "name": "python",
   "nbconvert_exporter": "python",
   "pygments_lexer": "ipython3",
   "version": "3.7.3"
  }
 },
 "nbformat": 4,
 "nbformat_minor": 2
}
