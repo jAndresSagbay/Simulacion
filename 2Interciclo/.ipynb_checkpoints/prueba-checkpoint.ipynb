{
 "cells": [
  {
   "cell_type": "code",
   "execution_count": 2,
   "metadata": {},
   "outputs": [],
   "source": [
    "import numpy as np\n",
    "import math as mt\n",
    "import matplotlib.pyplot as plt\n",
    "def congrueL(x, a, c, mod, it):\n",
    "    aux = 0.00\n",
    "    lis =[]\n",
    "    for i in range(it):\n",
    "        x = (a * x + c) % mod\n",
    "        aux = round(x/mod,2)\n",
    "        lis.append(aux)\n",
    "    return lis\n",
    "\n",
    "def gP(d):\n",
    "    aux1 =0\n",
    "    aux2 =0\n",
    "    if d%2 !=0:\n",
    "        aux1 = int(d/2)\n",
    "        aux2 = int(d/2)+1\n",
    "    else:\n",
    "        aux1 = int(d/2)\n",
    "        aux2 = aux1\n",
    "    return aux1,aux2"
   ]
  },
  {
   "cell_type": "code",
   "execution_count": 4,
   "metadata": {},
   "outputs": [],
   "source": [
    "def cudMedios(it, v, d):\n",
    "    lis =[]\n",
    "    semilla = int(v)\n",
    "    aux = gP(d)\n",
    "    for i in range(it):\n",
    "        x= semilla**2\n",
    "        l= len(str(x))\n",
    "        u= str(x)[int(l/2)-aux[0]:int(l/2)+aux[1]]\n",
    "        r= round(int(i)/10**d,2)\n",
    "       \n",
    "        lis.append(r)\n",
    "        semilla=int(u)\n",
    "   \n",
    "    return lis\n",
    "\n",
    "\n",
    "def lisDict(ngr, au, lis):\n",
    "    gr = []\n",
    "    aux=0.00\n",
    "    for i in range(ngr+1):\n",
    "        gr.append(round(aux,2))\n",
    "        aux=aux+au\n",
    "    a=0\n",
    "    b=1\n",
    "    ran={}\n",
    "    for i in range(len(gr)-1):\n",
    "        f=gr[a]\n",
    "        s=gr[b]\n",
    "        ran.update({str(f)+\",\" +str(s):[]})\n",
    "        for i in lis:\n",
    "            if i==0.00:\n",
    "                if i >=f and i <=s:\n",
    "                    ran[str(f)+\",\"+str(s)].append(i)\n",
    "            else:\n",
    "                if i >f and i <=s:\n",
    "                    ran[str(f)+\",\"+str(s)].append(i)\n",
    "        a=b\n",
    "        b=a+1\n",
    "    return ran"
   ]
  },
  {
   "cell_type": "code",
   "execution_count": 5,
   "metadata": {},
   "outputs": [],
   "source": [
    "def chiCuadrado(lis, v):\n",
    "    num = int(mt.sqrt(len(lis)))\n",
    "    d = lisDict(num,1/num, lis)\n",
    "    s = 0.00\n",
    "    print(\" Intervalo \", \"    Ei \", \"   Oi \", \" (Oi-Ei)**2/Ei\")\n",
    "    for x, it in enumerate(d.items()):\n",
    "        f = ((len(it[1])-num)**2)/num\n",
    "        s+=f\n",
    "        print(x, \" \", str(num)+\"(\"+it[0]+\")  \", len(it[1]),\"  \", f)\n",
    "\n",
    "    plt.hist(lis)\n",
    "    plt.ylabel('Frequencia')\n",
    "    plt.xlabel('valores')\n",
    "    plt.title('Histograma Chi cuadrado')\n",
    "    plt.show()\n",
    "    \n",
    "    print(\"Valor de la Suma : \",s)\n",
    "    if s< v:\n",
    "        return True\n",
    "    else:\n",
    "        return False"
   ]
  },
  {
   "cell_type": "code",
   "execution_count": 8,
   "metadata": {},
   "outputs": [],
   "source": [
    "def main():\n",
    "    valor = 16.9\n",
    "    print(\"Parte 1 CM\")\n",
    "    iters = 100\n",
    "    digs = 7\n",
    "    lista = cudMedios(iters, 13747323189, digs)\n",
    "    res=chiCuadrado(lista,valor)\n",
    "    print(\"Pasa: \",res) \n",
    "    \n",
    "    print(\"\")\n",
    "    print(\"Parte 2 CL\")\n",
    "\n",
    "    lista2 = congrueL(6,847334897457,13747323189,12,iters)\n",
    "    res2 = chiCuadrado(lista2,valor)\n",
    "    print(\"Pasa: \",res2)"
   ]
  },
  {
   "cell_type": "code",
   "execution_count": 7,
   "metadata": {
    "scrolled": true
   },
   "outputs": [
    {
     "name": "stdout",
     "output_type": "stream",
     "text": [
      "Parte 1 CM\n",
      " Intervalo      Ei     Oi   (Oi-Ei)**2/Ei\n",
      "0   10(0.0,0.1)   100    810.0\n",
      "1   10(0.1,0.2)   0    10.0\n",
      "2   10(0.2,0.3)   0    10.0\n",
      "3   10(0.3,0.4)   0    10.0\n",
      "4   10(0.4,0.5)   0    10.0\n",
      "5   10(0.5,0.6)   0    10.0\n",
      "6   10(0.6,0.7)   0    10.0\n",
      "7   10(0.7,0.8)   0    10.0\n",
      "8   10(0.8,0.9)   0    10.0\n",
      "9   10(0.9,1.0)   0    10.0\n"
     ]
    },
    {
     "data": {
      "image/png": "[encoded data removed]",
      "text/plain": [
       "<Figure size 432x288 with 1 Axes>"
      ]
     },
     "metadata": {
      "needs_background": "light"
     },
     "output_type": "display_data"
    },
    {
     "name": "stdout",
     "output_type": "stream",
     "text": [
      "Valor de la Suma :  900.0\n",
      "Pasa:  False\n",
      "\n",
      "Parte 2 CL\n",
      " Intervalo      Ei     Oi   (Oi-Ei)**2/Ei\n",
      "0   10(0.0,0.1)   25    22.5\n",
      "1   10(0.1,0.2)   0    10.0\n",
      "2   10(0.2,0.3)   25    22.5\n",
      "3   10(0.3,0.4)   0    10.0\n",
      "4   10(0.4,0.5)   25    22.5\n",
      "5   10(0.5,0.6)   0    10.0\n",
      "6   10(0.6,0.7)   0    10.0\n",
      "7   10(0.7,0.8)   25    22.5\n",
      "8   10(0.8,0.9)   0    10.0\n",
      "9   10(0.9,1.0)   0    10.0\n"
     ]
    },
    {
     "data": {
      "image/png": "[encoded data removed]",
      "text/plain": [
       "<Figure size 432x288 with 1 Axes>"
      ]
     },
     "metadata": {
      "needs_background": "light"
     },
     "output_type": "display_data"
    },
    {
     "name": "stdout",
     "output_type": "stream",
     "text": [
      "Valor de la Suma :  150.0\n",
      "Pasa:  False\n"
     ]
    }
   ],
   "source": [
    "if __name__ == \"__main__\":\n",
    "    main()"
   ]
  },
  {
   "cell_type": "markdown",
   "metadata": {},
   "source": [
    "# Conclusion"
   ]
  },
  {
   "cell_type": "markdown",
   "metadata": {},
   "source": [
    "El método de cuadrados medios es utilizado para la generación de números pseudoaleatorios, Esto para obtener una sucesión de números que básicamente se obtienen a partir de recurrencia lo cual, vemos ver que valores se le pasa para tener una valor eficiente, que nos ayuda a describir el comportamiento del ejercicio\n",
    "\n",
    "https://www.ncbi.nlm.nih.gov/pmc/articles/PMC6291769/\n",
    "https://www.mdirector.com/marketing-automation/estrategias-de-marketing-automation-para-fidelizar.html\n",
    "https://blog.inconcertcc.com/automatiza-el-marketing-digital-en-tus-redes-sociales/\n",
    "https://psicologiaymente.com/miscelanea/prueba-chi-cuadrado\n",
    "https://es.wikibooks.org/wiki/M%C3%A9todo_de_los_cuadrados_medios_para_la_generaci%C3%B3n_de_n%C3%BAmeros_pseudoaleatorios"
   ]
  },
  {
   "cell_type": "code",
   "execution_count": null,
   "metadata": {},
   "outputs": [],
   "source": []
  }
 ],
 "metadata": {
  "kernelspec": {
   "display_name": "Python 3",
   "language": "python",
   "name": "python3"
  },
  "language_info": {
   "codemirror_mode": {
    "name": "ipython",
    "version": 3
   },
   "file_extension": ".py",
   "mimetype": "text/x-python",
   "name": "python",
   "nbconvert_exporter": "python",
   "pygments_lexer": "ipython3",
   "version": "3.7.3"
  }
 },
 "nbformat": 4,
 "nbformat_minor": 2
}
