{
 "cells": [
  {
   "cell_type": "code",
   "execution_count": 2,
   "metadata": {},
   "outputs": [
    {
     "name": "stdout",
     "output_type": "stream",
     "text": [
      "Valor de la semilla : 4\n",
      "Valor del multiplicador : 1\n",
      "Valor de la constante aditiva : 3\n",
      "Valor del modulo : 8\n",
      "Congruencias Lineales\n",
      "0 4 0.5 7\n",
      "1 7 0.875 2\n",
      "2 2 0.25 5\n",
      "3 5 0.625 0\n",
      "4 0 0.0 3\n",
      "5 3 0.375 6\n",
      "6 6 0.75 1\n",
      "7 1 0.125 4\n"
     ]
    }
   ],
   "source": [
    "def congrulineales(x, a, c, m):\n",
    "    p = 0\n",
    "    b = 0\n",
    "    cn = 0\n",
    "    n = 0\n",
    "    print(\"Congruencias Lineales\")\n",
    "    while(b != x):\n",
    "        if (p == 0):\n",
    "            b = x\n",
    "        n=x\n",
    "        x = (a * x + c) % m\n",
    "        print(cn, n, round(n/m,4), x)\n",
    "        p = p + 1\n",
    "        cn=cn+1\n",
    "        \n",
    "def main():\n",
    "    congrulineales(int(input(\"Valor de la semilla : \")),\n",
    "                   int(input(\"Valor del multiplicador : \")),\n",
    "                   int(input(\"Valor de la constante aditiva : \")),\n",
    "                   int(input(\"Valor del modulo : \")))\n",
    "\n",
    "if __name__ == \"__main__\":\n",
    "    \n",
    "    main()"
   ]
  },
  {
   "cell_type": "code",
   "execution_count": null,
   "metadata": {},
   "outputs": [],
   "source": []
  }
 ],
 "metadata": {
  "kernelspec": {
   "display_name": "Python 3",
   "language": "python",
   "name": "python3"
  },
  "language_info": {
   "codemirror_mode": {
    "name": "ipython",
    "version": 3
   },
   "file_extension": ".py",
   "mimetype": "text/x-python",
   "name": "python",
   "nbconvert_exporter": "python",
   "pygments_lexer": "ipython3",
   "version": "3.7.3"
  }
 },
 "nbformat": 4,
 "nbformat_minor": 2
}
