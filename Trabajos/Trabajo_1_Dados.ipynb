{
 "cells": [
  {
   "cell_type": "code",
   "execution_count": 2,
   "metadata": {},
   "outputs": [
    {
     "name": "stdout",
     "output_type": "stream",
     "text": [
      "la suma de dos se repitio 1\n",
      "la suma de tres se repitio 12\n",
      "la suma de cuatro se repitio 14\n",
      "la suma de cinco se repitio 7\n",
      "la suma de seis se repitio 16\n",
      "la suma de siete se repitio 12\n",
      "la suma de ocho se repitio 13\n",
      "la suma de nueve se repitio 9\n",
      "la suma de diez se repitio 5\n",
      "la suma de once se repitio 6\n",
      "la suma de doce repitio 5\n",
      "fin\n"
     ]
    },
    {
     "data": {
      "image/png": "[encoded data removed]",
      "text/plain": [
       "<Figure size 432x288 with 1 Axes>"
      ]
     },
     "metadata": {
      "needs_background": "light"
     },
     "output_type": "display_data"
    },
    {
     "name": "stdout",
     "output_type": "stream",
     "text": [
      "la suma de dos se repitio 28\n",
      "la suma de tres se repitio 48\n",
      "la suma de cuatro se repitio 71\n",
      "la suma de cinco se repitio 115\n",
      "la suma de seis se repitio 128\n",
      "la suma de siete se repitio 165\n",
      "la suma de ocho se repitio 143\n",
      "la suma de nueve se repitio 130\n",
      "la suma de diez se repitio 84\n",
      "la suma de once se repitio 63\n",
      "la suma de doce repitio 25\n",
      "fin\n"
     ]
    },
    {
     "data": {
      "image/png": "[encoded data removed]",
      "text/plain": [
       "<Figure size 432x288 with 1 Axes>"
      ]
     },
     "metadata": {
      "needs_background": "light"
     },
     "output_type": "display_data"
    },
    {
     "name": "stdout",
     "output_type": "stream",
     "text": [
      "la suma de dos se repitio 262\n",
      "la suma de tres se repitio 558\n",
      "la suma de cuatro se repitio 858\n",
      "la suma de cinco se repitio 1154\n",
      "la suma de seis se repitio 1404\n",
      "la suma de siete se repitio 1604\n",
      "la suma de ocho se repitio 1413\n",
      "la suma de nueve se repitio 1060\n",
      "la suma de diez se repitio 858\n",
      "la suma de once se repitio 529\n",
      "la suma de doce repitio 300\n",
      "fin\n"
     ]
    },
    {
     "data": {
      "image/png": "[encoded data removed]",
      "text/plain": [
       "<Figure size 432x288 with 1 Axes>"
      ]
     },
     "metadata": {
      "needs_background": "light"
     },
     "output_type": "display_data"
    }
   ],
   "source": [
    "# -*- coding: utf-8 -*-\n",
    "\"\"\"\n",
    "Created on Mon Nov 30 14:21:40 2020\n",
    "\n",
    "@author: usuario\n",
    "\"\"\"\n",
    "\n",
    "import random\n",
    "import matplotlib.pyplot as plt\n",
    "import numpy as np\n",
    "def dado(n):\n",
    "    i = 1\n",
    "    dos =0\n",
    "    tres =0\n",
    "    cuatro =0\n",
    "    cinco=0\n",
    "    seis =0\n",
    "    siete=0\n",
    "    ocho=0\n",
    "    nueve=0\n",
    "    diez=0\n",
    "    once=0\n",
    "    doce=0\n",
    "    cont = [0,0,0,0,0,0,0,0,0,0,0]\n",
    "    while i <= n:\n",
    "        r1 = random.randint(1,6)\n",
    "        r2 = random.randint(1,6)\n",
    "        suma = r1 +r2\n",
    "        for j in range(2, 13):\n",
    "                if suma == j:\n",
    "                    cont[j-2] = cont[j-2] + 1\n",
    "        i += 1\n",
    "        dividendo =1\n",
    "        if suma == 2:\n",
    "            dividendo=1\n",
    "            dos +=1\n",
    "        elif suma ==3:\n",
    "            dividendo=2\n",
    "            tres +=1\n",
    "        elif suma ==4:\n",
    "            dividendo=3\n",
    "            cuatro +=1\n",
    "        elif suma ==5:\n",
    "           dividendo=4\n",
    "           cinco +=1\n",
    "        elif suma ==6:\n",
    "            dividendo=5\n",
    "            seis +=1\n",
    "        elif suma ==7:\n",
    "            dividendo=6\n",
    "            siete +=1\n",
    "        elif suma ==8:\n",
    "            dividendo=5\n",
    "            ocho +=1\n",
    "        elif suma ==9:\n",
    "            dividendo=4\n",
    "            nueve +=1\n",
    "        elif suma ==10:\n",
    "            dividendo=3\n",
    "            diez +=1\n",
    "        elif suma ==11:\n",
    "            dividendo=2\n",
    "            once +=1\n",
    "        elif suma ==12:\n",
    "            dividendo=1\n",
    "            doce +=1\n",
    "        frecuencia = dividendo/36\n",
    "       \n",
    "    print(\"la suma de dos se repitio\",dos)\n",
    "    print(\"la suma de tres se repitio\",tres)\n",
    "    print(\"la suma de cuatro se repitio\",cuatro)\n",
    "    print(\"la suma de cinco se repitio\",cinco)\n",
    "    print(\"la suma de seis se repitio\",seis)\n",
    "    print(\"la suma de siete se repitio\",siete)\n",
    "    print(\"la suma de ocho se repitio\",ocho)\n",
    "    print(\"la suma de nueve se repitio\",nueve)\n",
    "    print(\"la suma de diez se repitio\",diez)\n",
    "    print(\"la suma de once se repitio\",once)\n",
    "    print(\"la suma de doce repitio\",doce)\n",
    "    print(\"fin\")\n",
    "    etiqueta = ['2', '3', '4', '5', '6', '7', '8', '9', '10', '11', '12']\n",
    "    plt.xticks(range(len(cont)), etiqueta)\n",
    "    plt.xlabel('Sumas')\n",
    "    plt.ylabel('Probabilidad')\n",
    "    plt.title('Simulación suma Dados')\n",
    "    plt.bar(range(len(cont)), cont) \n",
    "    plt.show()\n",
    "    \n",
    "    \n",
    "dado(100)\n",
    "dado(1000)\n",
    "dado(10000)"
   ]
  },
  {
   "cell_type": "code",
   "execution_count": null,
   "metadata": {},
   "outputs": [],
   "source": []
  }
 ],
 "metadata": {
  "kernelspec": {
   "display_name": "Python 3",
   "language": "python",
   "name": "python3"
  },
  "language_info": {
   "codemirror_mode": {
    "name": "ipython",
    "version": 3
   },
   "file_extension": ".py",
   "mimetype": "text/x-python",
   "name": "python",
   "nbconvert_exporter": "python",
   "pygments_lexer": "ipython3",
   "version": "3.7.3"
  }
 },
 "nbformat": 4,
 "nbformat_minor": 2
}
